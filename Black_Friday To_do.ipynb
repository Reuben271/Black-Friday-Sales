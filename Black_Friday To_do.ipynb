{
 "cells": [
  {
   "cell_type": "code",
   "execution_count": 3,
   "metadata": {},
   "outputs": [
    {
     "data": {
      "text/plain": [
       "'C:\\\\Users\\\\rchtk'"
      ]
     },
     "execution_count": 3,
     "metadata": {},
     "output_type": "execute_result"
    }
   ],
   "source": [
    "pwd"
   ]
  },
  {
   "cell_type": "code",
   "execution_count": 4,
   "metadata": {},
   "outputs": [
    {
     "name": "stdout",
     "output_type": "stream",
     "text": [
      "E:\\Imps\\Black Friday\\Training Set\n"
     ]
    }
   ],
   "source": [
    "cd \"E:\\Imps\\Black Friday\\Training Set\""
   ]
  },
  {
   "cell_type": "code",
   "execution_count": 5,
   "metadata": {},
   "outputs": [],
   "source": [
    "import numpy as np \n",
    "import pandas as pd\n",
    "from math import *\n",
    "from sklearn.model_selection import train_test_split\n",
    "from sklearn.preprocessing import MinMaxScaler, LabelEncoder\n",
    "from sklearn.linear_model import LinearRegression, Ridge, Lasso, ElasticNet\n",
    "from sklearn.tree import DecisionTreeRegressor\n",
    "from sklearn.ensemble import RandomForestRegressor\n",
    "from sklearn.metrics import mean_squared_error, r2_score\n",
    "\n",
    "import seaborn as sns\n",
    "sns.set_style('darkgrid')\n",
    "import matplotlib.pyplot as plt\n",
    "\n",
    "pd.set_option('display.max_columns', 100)\n",
    "import warnings\n",
    "warnings.filterwarnings('ignore')        \n",
    "\n",
    "#reading test and train dataset files\n",
    "train = pd.read_csv(\"train.csv\")\n",
    "test = pd.read_csv(\"test.csv\")\n",
    "\n",
    "#creating dataframe for the required output\n",
    "submission = pd.DataFrame()\n",
    "submission['User_ID'] = test['User_ID']\n",
    "submission['Product_ID'] = test['Product_ID']"
   ]
  },
  {
   "cell_type": "code",
   "execution_count": 6,
   "metadata": {},
   "outputs": [],
   "source": [
    "gender_dict = {'F':0,'M':1}\n",
    "age_dict = {'0-17':0,'18-25':1,'26-35':2,'36-45':3,'46-50':4,'51-55':5,'55+':6}\n",
    "city_cat_dict = {'A':0,'B':1,'C':2}\n",
    "stay_dict = {'0':0,'1':1,'2':2,'3':3,'4+':4}"
   ]
  },
  {
   "cell_type": "code",
   "execution_count": 7,
   "metadata": {},
   "outputs": [],
   "source": [
    "train[\"Gender\"] = train[\"Gender\"].apply(lambda x: gender_dict[x])\n",
    "test[\"Gender\"] = test[\"Gender\"].apply(lambda x: gender_dict[x])\n",
    "\n",
    "train[\"Age\"] = train[\"Age\"].apply(lambda x: age_dict[x])\n",
    "test[\"Age\"] = test[\"Age\"].apply(lambda x: age_dict[x])\n",
    "\n",
    "train[\"City_Category\"] = train[\"City_Category\"].apply(lambda x: city_cat_dict[x])\n",
    "test[\"City_Category\"] = test[\"City_Category\"].apply(lambda x: city_cat_dict[x])\n",
    "\n",
    "train[\"Stay_In_Current_City_Years\"] = train[\"Stay_In_Current_City_Years\"].apply(lambda x: stay_dict[x])\n",
    "test[\"Stay_In_Current_City_Years\"] = test[\"Stay_In_Current_City_Years\"].apply(lambda x: stay_dict[x])"
   ]
  },
  {
   "cell_type": "code",
   "execution_count": 8,
   "metadata": {},
   "outputs": [],
   "source": [
    "train[\"Age_Count\"] = train.groupby(['Age'])['Age'].transform('count')"
   ]
  },
  {
   "cell_type": "code",
   "execution_count": 9,
   "metadata": {},
   "outputs": [],
   "source": [
    "age_count_dict = train.groupby(['Age']).size().to_dict()"
   ]
  },
  {
   "cell_type": "code",
   "execution_count": 10,
   "metadata": {},
   "outputs": [],
   "source": [
    "test['Age_Count'] = test['Age'].apply(lambda x:age_count_dict.get(x,0))"
   ]
  },
  {
   "cell_type": "code",
   "execution_count": 11,
   "metadata": {},
   "outputs": [],
   "source": [
    "train[\"Occupation_Count\"] = train.groupby([\"Occupation\"])[\"Occupation\"].transform('count')\n",
    "Occupation_Count_dict = train.groupby([\"Occupation\"]).size().to_dict()\n",
    "test[\"Occupation_Count\"] = test[\"Occupation\"].apply(lambda x:Occupation_Count_dict.get(x,0))"
   ]
  },
  {
   "cell_type": "code",
   "execution_count": 12,
   "metadata": {},
   "outputs": [],
   "source": [
    "train[\"Product_Category_1_Count\"] = train.groupby([\"Product_Category_1\"])[\"Product_Category_1\"].transform('count')\n",
    "pc1_count_dict = train.groupby([\"Product_Category_1\"]).size().to_dict()\n",
    "test[\"Product_Category_1_Count\"] = test[\"Product_Category_1\"].apply(lambda x:pc1_count_dict.get(x,0))"
   ]
  },
  {
   "cell_type": "code",
   "execution_count": 13,
   "metadata": {},
   "outputs": [],
   "source": [
    "train[\"Product_Category_2_Count\"] = train.groupby(['Product_Category_2'])['Product_Category_2'].transform('count')\n",
    "pc2_count_dict = train.groupby(['Product_Category_2']).size().to_dict()\n",
    "test['Product_Category_2_Count'] = test['Product_Category_2'].apply(lambda x:pc2_count_dict.get(x,0))\n",
    "\n",
    "train[\"Product_Category_3_Count\"] = train.groupby(['Product_Category_3'])['Product_Category_3'].transform('count')\n",
    "pc3_count_dict = train.groupby(['Product_Category_3']).size().to_dict()\n",
    "test['Product_Category_3_Count'] = test['Product_Category_3'].apply(lambda x:pc3_count_dict.get(x,0))\n",
    "\n",
    "train[\"User_ID_Count\"] = train.groupby(['User_ID'])['User_ID'].transform('count')\n",
    "userID_count_dict = train.groupby(['User_ID']).size().to_dict()\n",
    "test['User_ID_Count'] = test['User_ID'].apply(lambda x:userID_count_dict.get(x,0))\n",
    "\n",
    "train[\"Product_ID_Count\"] = train.groupby(['Product_ID'])['Product_ID'].transform('count')\n",
    "productID_count_dict = train.groupby(['Product_ID']).size().to_dict()\n",
    "test['Product_ID_Count'] = test['Product_ID'].apply(lambda x:productID_count_dict.get(x,0))"
   ]
  },
  {
   "cell_type": "code",
   "execution_count": 14,
   "metadata": {},
   "outputs": [],
   "source": [
    "train[\"User_ID_MinPrice\"] = train.groupby(['User_ID'])['Purchase'].transform('min')"
   ]
  },
  {
   "cell_type": "code",
   "execution_count": 15,
   "metadata": {},
   "outputs": [],
   "source": [
    "userID_min_dict = train.groupby(['User_ID'])['Purchase'].min().to_dict()\n",
    "test['User_ID_MinPrice'] = test['User_ID'].apply(lambda x:userID_min_dict.get(x,0))\n",
    "\n",
    "train[\"User_ID_MaxPrice\"] = train.groupby(['User_ID'])['Purchase'].transform('max')\n",
    "userID_max_dict = train.groupby(['User_ID'])['Purchase'].max().to_dict()\n",
    "test['User_ID_MaxPrice'] = test['User_ID'].apply(lambda x:userID_max_dict.get(x,0))\n",
    "\n",
    "train[\"User_ID_MeanPrice\"] = train.groupby(['User_ID'])['Purchase'].transform('mean')\n",
    "userID_mean_dict = train.groupby(['User_ID'])['Purchase'].mean().to_dict()\n",
    "test['User_ID_MeanPrice'] = test['User_ID'].apply(lambda x:userID_mean_dict.get(x,0))\n",
    "\n",
    "\n",
    "train[\"Product_ID_MinPrice\"] = train.groupby(['Product_ID'])['Purchase'].transform('min')\n",
    "productID_min_dict = train.groupby(['Product_ID'])['Purchase'].min().to_dict()\n",
    "test['Product_ID_MinPrice'] = test['Product_ID'].apply(lambda x:productID_min_dict.get(x,0))\n",
    "\n",
    "train[\"Product_ID_MaxPrice\"] = train.groupby(['Product_ID'])['Purchase'].transform('max')\n",
    "productID_max_dict = train.groupby(['Product_ID'])['Purchase'].max().to_dict()\n",
    "test['Product_ID_MaxPrice'] = test['Product_ID'].apply(lambda x:productID_max_dict.get(x,0))\n",
    "\n",
    "train[\"Product_ID_MeanPrice\"] = train.groupby(['Product_ID'])['Purchase'].transform('mean')\n",
    "productID_mean_dict = train.groupby(['Product_ID'])['Purchase'].mean().to_dict()\n",
    "test['Product_ID_MeanPrice'] = test['Product_ID'].apply(lambda x:productID_mean_dict.get(x,0))"
   ]
  },
  {
   "cell_type": "code",
   "execution_count": 16,
   "metadata": {},
   "outputs": [],
   "source": [
    "userID_25p_dict = train.groupby(['User_ID'])['Purchase'].apply(lambda x:np.percentile(x,25)).to_dict()\n",
    "train['User_ID_25PercPrice'] = train['User_ID'].apply(lambda x:userID_25p_dict.get(x,0))\n",
    "test['User_ID_25PercPrice'] = test['User_ID'].apply(lambda x:userID_25p_dict.get(x,0))\n",
    "\n",
    "userID_75p_dict = train.groupby(['User_ID'])['Purchase'].apply(lambda x:np.percentile(x,75)).to_dict()\n",
    "train['User_ID_75PercPrice'] = train['User_ID'].apply(lambda x:userID_75p_dict.get(x,0))\n",
    "test['User_ID_75PercPrice'] = test['User_ID'].apply(lambda x:userID_75p_dict.get(x,0))\n",
    "\n",
    "productID_25p_dict = train.groupby(['Product_ID'])['Purchase'].apply(lambda x:np.percentile(x,25)).to_dict()\n",
    "train['Product_ID_25PercPrice'] = train['Product_ID'].apply(lambda x:productID_25p_dict.get(x,0))\n",
    "test['Product_ID_25PercPrice'] = test['Product_ID'].apply(lambda x:productID_25p_dict.get(x,0))\n",
    "\n",
    "productID_75p_dict = train.groupby(['Product_ID'])['Purchase'].apply(lambda x:np.percentile(x,75)).to_dict()\n",
    "train['Product_ID_75PercPrice'] = train['Product_ID'].apply(lambda x:productID_75p_dict.get(x,0))\n",
    "test['Product_ID_75PercPrice'] = test['Product_ID'].apply(lambda x:productID_75p_dict.get(x,0))\n",
    "\n",
    "\n",
    "train[\"Product_Cat1_MinPrice\"] = train.groupby(['Product_Category_1'])['Purchase'].transform('min')\n",
    "pc1_min_dict = train.groupby(['Product_Category_1'])['Purchase'].min().to_dict()\n",
    "test['Product_Cat1_MinPrice'] = test['Product_Category_1'].apply(lambda x:pc1_min_dict.get(x,0))\n",
    "\n",
    "train[\"Product_Cat1_MaxPrice\"] = train.groupby(['Product_Category_1'])['Purchase'].transform('max')\n",
    "pc1_max_dict = train.groupby(['Product_Category_1'])['Purchase'].max().to_dict()\n",
    "test['Product_Cat1_MaxPrice'] = test['Product_Category_1'].apply(lambda x:pc1_max_dict.get(x,0))\n",
    "\n",
    "train[\"Product_Cat1_MeanPrice\"] = train.groupby(['Product_Category_1'])['Purchase'].transform('mean')\n",
    "pc1_mean_dict = train.groupby(['Product_Category_1'])['Purchase'].mean().to_dict()\n",
    "test['Product_Cat1_MeanPrice'] = test['Product_Category_1'].apply(lambda x:pc1_mean_dict.get(x,0))\n",
    "\n",
    "pc1_25p_dict = train.groupby(['Product_Category_1'])['Purchase'].apply(lambda x:np.percentile(x,25)).to_dict()\n",
    "train['Product_Cat1_25PercPrice'] = train['Product_Category_1'].apply(lambda x:pc1_25p_dict.get(x,0))\n",
    "test['Product_Cat1_25PercPrice'] = test['Product_Category_1'].apply(lambda x:pc1_25p_dict.get(x,0))\n",
    "\n",
    "pc1_75p_dict = train.groupby(['Product_Category_1'])['Purchase'].apply(lambda x:np.percentile(x,75)).to_dict()\n",
    "train['Product_Cat1_75PercPrice'] = train['Product_Category_1'].apply(lambda x:pc1_75p_dict.get(x,0))\n",
    "test['Product_Cat1_75PercPrice'] = test['Product_Category_1'].apply(lambda x:pc1_75p_dict.get(x,0))\n",
    "\n",
    "\n",
    "train[\"Product_Cat2_MinPrice\"] = train.groupby(['Product_Category_2'])['Purchase'].transform('min')\n",
    "pc2_min_dict = train.groupby(['Product_Category_2'])['Purchase'].min().to_dict()\n",
    "test['Product_Cat2_MinPrice'] = test['Product_Category_2'].apply(lambda x:pc2_min_dict.get(x,0))\n",
    "\n",
    "train[\"Product_Cat2_MaxPrice\"] = train.groupby(['Product_Category_2'])['Purchase'].transform('max')\n",
    "pc2_max_dict = train.groupby(['Product_Category_2'])['Purchase'].max().to_dict()\n",
    "test['Product_Cat2_MaxPrice'] = test['Product_Category_2'].apply(lambda x:pc2_max_dict.get(x,0))\n",
    "\n",
    "train[\"Product_Cat2_MeanPrice\"] = train.groupby(['Product_Category_2'])['Purchase'].transform('mean')\n",
    "pc2_mean_dict = train.groupby(['Product_Category_2'])['Purchase'].mean().to_dict()\n",
    "test['Product_Cat2_MeanPrice'] = test['Product_Category_2'].apply(lambda x:pc2_mean_dict.get(x,0))\n",
    "\n",
    "pc2_25p_dict = train.groupby(['Product_Category_2'])['Purchase'].apply(lambda x:np.percentile(x,25)).to_dict()\n",
    "train['Product_Cat2_25PercPrice'] = train['Product_Category_2'].apply(lambda x:pc2_25p_dict.get(x,0))\n",
    "test['Product_Cat2_25PercPrice'] = test['Product_Category_2'].apply(lambda x:pc2_25p_dict.get(x,0))\n",
    "\n",
    "pc2_75p_dict = train.groupby(['Product_Category_2'])['Purchase'].apply(lambda x:np.percentile(x,75)).to_dict()\n",
    "train['Product_Cat2_75PercPrice'] = train['Product_Category_2'].apply(lambda x:pc2_75p_dict.get(x,0))\n",
    "test['Product_Cat2_75PercPrice'] = test['Product_Category_2'].apply(lambda x:pc2_75p_dict.get(x,0))\n",
    "\n",
    "\n",
    "train[\"Product_Cat3_MinPrice\"] = train.groupby(['Product_Category_3'])['Purchase'].transform('min')\n",
    "pc3_min_dict = train.groupby(['Product_Category_3'])['Purchase'].min().to_dict()\n",
    "test['Product_Cat3_MinPrice'] = test['Product_Category_3'].apply(lambda x:pc3_min_dict.get(x,0))\n",
    "\n",
    "train[\"Product_Cat3_MaxPrice\"] = train.groupby(['Product_Category_3'])['Purchase'].transform('max')\n",
    "pc3_max_dict = train.groupby(['Product_Category_3'])['Purchase'].max().to_dict()\n",
    "test['Product_Cat3_MaxPrice'] = test['Product_Category_3'].apply(lambda x:pc3_max_dict.get(x,0))\n",
    "\n",
    "train[\"Product_Cat3_MeanPrice\"] = train.groupby(['Product_Category_3'])['Purchase'].transform('mean')\n",
    "pc3_mean_dict = train.groupby(['Product_Category_3'])['Purchase'].mean().to_dict()\n",
    "test['Product_Cat3_MeanPrice'] = test['Product_Category_3'].apply(lambda x:pc3_mean_dict.get(x,0))\n",
    "\n",
    "pc3_25p_dict = train.groupby(['Product_Category_3'])['Purchase'].apply(lambda x:np.percentile(x,25)).to_dict()\n",
    "train['Product_Cat3_25PercPrice'] = train['Product_Category_3'].apply(lambda x:pc3_25p_dict.get(x,0))\n",
    "test['Product_Cat3_25PercPrice'] = test['Product_Category_3'].apply(lambda x:pc3_25p_dict.get(x,0))\n",
    "\n",
    "pc3_75p_dict = train.groupby(['Product_Category_3'])['Purchase'].apply(lambda x:np.percentile(x,75)).to_dict()\n",
    "train['Product_Cat3_75PercPrice'] = train['Product_Category_3'].apply(lambda x:pc3_75p_dict.get(x,0))\n",
    "test['Product_Cat3_75PercPrice'] = test['Product_Category_3'].apply(lambda x:pc3_75p_dict.get(x,0))"
   ]
  },
  {
   "cell_type": "code",
   "execution_count": 17,
   "metadata": {},
   "outputs": [],
   "source": [
    "header_list = train.columns.values.tolist()"
   ]
  },
  {
   "cell_type": "code",
   "execution_count": 18,
   "metadata": {},
   "outputs": [
    {
     "data": {
      "text/plain": [
       "['User_ID',\n",
       " 'Product_ID',\n",
       " 'Gender',\n",
       " 'Age',\n",
       " 'Occupation',\n",
       " 'City_Category',\n",
       " 'Stay_In_Current_City_Years',\n",
       " 'Marital_Status',\n",
       " 'Product_Category_1',\n",
       " 'Product_Category_2',\n",
       " 'Product_Category_3',\n",
       " 'Purchase',\n",
       " 'Age_Count',\n",
       " 'Occupation_Count',\n",
       " 'Product_Category_1_Count',\n",
       " 'Product_Category_2_Count',\n",
       " 'Product_Category_3_Count',\n",
       " 'User_ID_Count',\n",
       " 'Product_ID_Count',\n",
       " 'User_ID_MinPrice',\n",
       " 'User_ID_MaxPrice',\n",
       " 'User_ID_MeanPrice',\n",
       " 'Product_ID_MinPrice',\n",
       " 'Product_ID_MaxPrice',\n",
       " 'Product_ID_MeanPrice',\n",
       " 'User_ID_25PercPrice',\n",
       " 'User_ID_75PercPrice',\n",
       " 'Product_ID_25PercPrice',\n",
       " 'Product_ID_75PercPrice',\n",
       " 'Product_Cat1_MinPrice',\n",
       " 'Product_Cat1_MaxPrice',\n",
       " 'Product_Cat1_MeanPrice',\n",
       " 'Product_Cat1_25PercPrice',\n",
       " 'Product_Cat1_75PercPrice',\n",
       " 'Product_Cat2_MinPrice',\n",
       " 'Product_Cat2_MaxPrice',\n",
       " 'Product_Cat2_MeanPrice',\n",
       " 'Product_Cat2_25PercPrice',\n",
       " 'Product_Cat2_75PercPrice',\n",
       " 'Product_Cat3_MinPrice',\n",
       " 'Product_Cat3_MaxPrice',\n",
       " 'Product_Cat3_MeanPrice',\n",
       " 'Product_Cat3_25PercPrice',\n",
       " 'Product_Cat3_75PercPrice']"
      ]
     },
     "execution_count": 18,
     "metadata": {},
     "output_type": "execute_result"
    }
   ],
   "source": [
    "header_list"
   ]
  },
  {
   "cell_type": "code",
   "execution_count": 19,
   "metadata": {},
   "outputs": [],
   "source": [
    "train_y = train[\"Purchase\"]\n",
    "train.drop([\"Purchase\"], axis=1, inplace=True)\n",
    "\n",
    "train.fillna(-999, inplace=True)\n",
    "test.fillna(-999, inplace=True)\n",
    "\n",
    "from sklearn.preprocessing import LabelEncoder\n",
    "cat_columns_list = [\"User_ID\", \"Product_ID\"]\n",
    "for var in cat_columns_list:\n",
    "    lb = LabelEncoder()\n",
    "    full_var_data = pd.concat((train[var],test[var]),axis=0).astype('str')\n",
    "    temp = lb.fit_transform(np.array(full_var_data))\n",
    "    train[var] = lb.transform(np.array( train[var] ).astype('str'))\n",
    "    test[var] = lb.transform(np.array( test[var] ).astype('str'))"
   ]
  },
  {
   "cell_type": "code",
   "execution_count": 21,
   "metadata": {},
   "outputs": [
    {
     "name": "stdout",
     "output_type": "stream",
     "text": [
      "RMSE Error: 2561.909753873432\n",
      "R2 Score: 0.738783149632013\n"
     ]
    }
   ],
   "source": [
    "X_train,X_test,Y_train,Y_test = train_test_split(train,train_y,test_size=0.2,random_state=42)\n",
    "\n",
    "regressor = Ridge(alpha = 10)\n",
    "regressor.fit(X_train, Y_train)\n",
    "y_pred = regressor.predict(X_test)\n",
    "\n",
    "# finding the mean_squared error\n",
    "mse = mean_squared_error(Y_test, y_pred)\n",
    "print(\"RMSE Error:\", np.sqrt(mse))\n",
    "\n",
    "# finding the r2 score or the variance\n",
    "r2 = r2_score(Y_test, y_pred)\n",
    "print(\"R2 Score:\", r2)"
   ]
  },
  {
   "cell_type": "code",
   "execution_count": null,
   "metadata": {},
   "outputs": [],
   "source": []
  }
 ],
 "metadata": {
  "kernelspec": {
   "display_name": "Python 3",
   "language": "python",
   "name": "python3"
  },
  "language_info": {
   "codemirror_mode": {
    "name": "ipython",
    "version": 3
   },
   "file_extension": ".py",
   "mimetype": "text/x-python",
   "name": "python",
   "nbconvert_exporter": "python",
   "pygments_lexer": "ipython3",
   "version": "3.7.3"
  }
 },
 "nbformat": 4,
 "nbformat_minor": 2
}
